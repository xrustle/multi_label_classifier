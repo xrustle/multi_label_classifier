{
 "cells": [
  {
   "cell_type": "markdown",
   "id": "1f50df3a",
   "metadata": {},
   "source": [
    "# Module demonstration"
   ]
  },
  {
   "cell_type": "code",
   "execution_count": 1,
   "id": "5ab6a8f6",
   "metadata": {},
   "outputs": [],
   "source": [
    "!pip install git+https://github.com/xrustle/multi_label_classifier -q"
   ]
  },
  {
   "cell_type": "code",
   "execution_count": 2,
   "id": "211eddd3",
   "metadata": {},
   "outputs": [],
   "source": [
    "import os\n",
    "import pandas as pd\n",
    "from sklearn.metrics import jaccard_score\n",
    "from sklearn.model_selection import train_test_split\n",
    "\n",
    "from multi_label_classifier import MultiLabelClassifier"
   ]
  },
  {
   "cell_type": "markdown",
   "id": "2ce3bd25",
   "metadata": {},
   "source": [
    "#### Загрузка данных"
   ]
  },
  {
   "cell_type": "code",
   "execution_count": 3,
   "id": "48a4e516",
   "metadata": {},
   "outputs": [],
   "source": [
    "EXCEL_FILE = 'ceo_train_v2.01.xlsx'\n",
    "if not os.path.isfile(EXCEL_FILE):\n",
    "    !wget https://github.com/xrustle/multi_label_classifier/raw/master/tests/test_data/ceo_train_v2.01.xlsx"
   ]
  },
  {
   "cell_type": "code",
   "execution_count": 4,
   "id": "193e1f36",
   "metadata": {},
   "outputs": [],
   "source": [
    "df = pd.read_excel('ceo_train_v2.01.xlsx')\n",
    "df = df[['Комментарий', 'target']]\n",
    "\n",
    "X_train, X_test, y_train, y_test = train_test_split(\n",
    "    df['Комментарий'],\n",
    "    df['target'],\n",
    "    test_size=0.2,\n",
    "    random_state=42\n",
    ")"
   ]
  },
  {
   "cell_type": "markdown",
   "id": "67d1ad90",
   "metadata": {},
   "source": [
    "#### Обучение и предсказание"
   ]
  },
  {
   "cell_type": "markdown",
   "id": "a9194ec2",
   "metadata": {},
   "source": [
    "Лучше иметь предустановленный XGBoost для GPU для значительного ускорения обучения"
   ]
  },
  {
   "cell_type": "code",
   "execution_count": 5,
   "id": "2aeb9585",
   "metadata": {},
   "outputs": [
    {
     "name": "stdout",
     "output_type": "stream",
     "text": [
      "Data preprocessing...\n",
      "Training...\n"
     ]
    },
    {
     "data": {
      "application/vnd.jupyter.widget-view+json": {
       "model_id": "55bf64d4837f4cb3942d04be9ac585e9",
       "version_major": 2,
       "version_minor": 0
      },
      "text/plain": [
       "HBox(children=(HTML(value=''), FloatProgress(value=0.0, max=3.0), HTML(value='')))"
      ]
     },
     "metadata": {},
     "output_type": "display_data"
    },
    {
     "name": "stdout",
     "output_type": "stream",
     "text": [
      "\n",
      "CPU times: user 4min 2s, sys: 18 s, total: 4min 20s\n",
      "Wall time: 2min 14s\n"
     ]
    },
    {
     "data": {
      "text/plain": [
       "array([False, False, False, False,  True, False, False, False, False,\n",
       "       False, False, False, False])"
      ]
     },
     "execution_count": 5,
     "metadata": {},
     "output_type": "execute_result"
    }
   ],
   "source": [
    "%%time\n",
    "model = MultiLabelClassifier(\n",
    "    n_estimators=3,  # Число ChainClassifier в ансамбле\n",
    "    var_threshold=5e-5\n",
    ")\n",
    "model.fit(X_train, y_train, silent=False)\n",
    "\n",
    "y_pred = model.predict(X_test)  # Предсказания в виде one-hot векторов\n",
    "y_pred_labels = model.predict_labels(X_test)  # Текстовые предсказания с классами через запятую\n",
    "y_pred[0]"
   ]
  },
  {
   "cell_type": "code",
   "execution_count": 6,
   "id": "d4809765",
   "metadata": {},
   "outputs": [
    {
     "data": {
      "text/plain": [
       "array([False, False, False, False,  True, False, False, False, False,\n",
       "       False, False, False, False])"
      ]
     },
     "execution_count": 6,
     "metadata": {},
     "output_type": "execute_result"
    }
   ],
   "source": [
    "model.mlb.transform([['empty']])[0]==1"
   ]
  },
  {
   "cell_type": "code",
   "execution_count": 7,
   "id": "485b904f",
   "metadata": {},
   "outputs": [],
   "source": [
    "y_true = model.mlb.transform(y_test.apply(lambda x: x.split(',')))"
   ]
  },
  {
   "cell_type": "markdown",
   "id": "f007eaa1",
   "metadata": {},
   "source": [
    "#### Строим предсказание в виде векторов для оценки"
   ]
  },
  {
   "cell_type": "markdown",
   "id": "eb092d23",
   "metadata": {},
   "source": [
    "Для оценки используем Jaccard score. Она показывает насколько сильно совпадают реальные наборы классов с предсказанными.<br> Чем ближе к 1, тем лучше.<br> https://en.wikipedia.org/wiki/Jaccard_index"
   ]
  },
  {
   "cell_type": "code",
   "execution_count": 8,
   "id": "b0b4f89d",
   "metadata": {},
   "outputs": [
    {
     "data": {
      "text/plain": [
       "0.967"
      ]
     },
     "execution_count": 8,
     "metadata": {},
     "output_type": "execute_result"
    }
   ],
   "source": [
    "jaccard_score(y_true, y_pred, average='samples').round(decimals=3)"
   ]
  },
  {
   "cell_type": "markdown",
   "id": "b812a917",
   "metadata": {},
   "source": [
    "#### Пример предсказания"
   ]
  },
  {
   "cell_type": "code",
   "execution_count": 9,
   "id": "81505ccc",
   "metadata": {},
   "outputs": [
    {
     "data": {
      "text/html": [
       "<div>\n",
       "<style scoped>\n",
       "    .dataframe tbody tr th:only-of-type {\n",
       "        vertical-align: middle;\n",
       "    }\n",
       "\n",
       "    .dataframe tbody tr th {\n",
       "        vertical-align: top;\n",
       "    }\n",
       "\n",
       "    .dataframe thead th {\n",
       "        text-align: right;\n",
       "    }\n",
       "</style>\n",
       "<table border=\"1\" class=\"dataframe\">\n",
       "  <thead>\n",
       "    <tr style=\"text-align: right;\">\n",
       "      <th></th>\n",
       "      <th>X_test</th>\n",
       "      <th>y_test</th>\n",
       "      <th>y_pred_labels</th>\n",
       "    </tr>\n",
       "  </thead>\n",
       "  <tbody>\n",
       "    <tr>\n",
       "      <th>30490</th>\n",
       "      <td>за сегодняшний день зафиксировано 2 случая уде...</td>\n",
       "      <td>empty</td>\n",
       "      <td>empty</td>\n",
       "    </tr>\n",
       "    <tr>\n",
       "      <th>17284</th>\n",
       "      <td>прошу перезагрузить банкомат. отсутствуют опер...</td>\n",
       "      <td>remote_reboot,no_oper</td>\n",
       "      <td>no_oper,remote_reboot</td>\n",
       "    </tr>\n",
       "    <tr>\n",
       "      <th>1109</th>\n",
       "      <td>просьба перезагрузить</td>\n",
       "      <td>remote_reboot</td>\n",
       "      <td>remote_reboot</td>\n",
       "    </tr>\n",
       "    <tr>\n",
       "      <th>5536</th>\n",
       "      <td>просьба опросить банкомат. нет операций</td>\n",
       "      <td>no_oper</td>\n",
       "      <td>no_oper</td>\n",
       "    </tr>\n",
       "    <tr>\n",
       "      <th>31356</th>\n",
       "      <td>загружается по внутренним, банкомат завис. на ...</td>\n",
       "      <td>empty</td>\n",
       "      <td>empty</td>\n",
       "    </tr>\n",
       "    <tr>\n",
       "      <th>...</th>\n",
       "      <td>...</td>\n",
       "      <td>...</td>\n",
       "      <td>...</td>\n",
       "    </tr>\n",
       "    <tr>\n",
       "      <th>21913</th>\n",
       "      <td>просьба удаленно перезагрузить и вывести кассе...</td>\n",
       "      <td>remote_reboot,cassette</td>\n",
       "      <td>cassette,remote_reboot</td>\n",
       "    </tr>\n",
       "    <tr>\n",
       "      <th>10406</th>\n",
       "      <td>прошу проверить ус нет операций.</td>\n",
       "      <td>no_oper</td>\n",
       "      <td>no_oper</td>\n",
       "    </tr>\n",
       "    <tr>\n",
       "      <th>18134</th>\n",
       "      <td>добрый день!просьба удаленно перезагрузить ус....</td>\n",
       "      <td>remote_reboot,cassette</td>\n",
       "      <td>cassette,remote_reboot</td>\n",
       "    </tr>\n",
       "    <tr>\n",
       "      <th>31838</th>\n",
       "      <td>поступила жалоба о плохой работе карт-ридера -...</td>\n",
       "      <td>empty</td>\n",
       "      <td>empty</td>\n",
       "    </tr>\n",
       "    <tr>\n",
       "      <th>964</th>\n",
       "      <td>просьба перезагрузить</td>\n",
       "      <td>remote_reboot</td>\n",
       "      <td>remote_reboot</td>\n",
       "    </tr>\n",
       "  </tbody>\n",
       "</table>\n",
       "<p>6793 rows × 3 columns</p>\n",
       "</div>"
      ],
      "text/plain": [
       "                                                  X_test  \\\n",
       "30490  за сегодняшний день зафиксировано 2 случая уде...   \n",
       "17284  прошу перезагрузить банкомат. отсутствуют опер...   \n",
       "1109                               просьба перезагрузить   \n",
       "5536             просьба опросить банкомат. нет операций   \n",
       "31356  загружается по внутренним, банкомат завис. на ...   \n",
       "...                                                  ...   \n",
       "21913  просьба удаленно перезагрузить и вывести кассе...   \n",
       "10406                   прошу проверить ус нет операций.   \n",
       "18134  добрый день!просьба удаленно перезагрузить ус....   \n",
       "31838  поступила жалоба о плохой работе карт-ридера -...   \n",
       "964                                просьба перезагрузить   \n",
       "\n",
       "                       y_test           y_pred_labels  \n",
       "30490                   empty                   empty  \n",
       "17284   remote_reboot,no_oper   no_oper,remote_reboot  \n",
       "1109            remote_reboot           remote_reboot  \n",
       "5536                  no_oper                 no_oper  \n",
       "31356                   empty                   empty  \n",
       "...                       ...                     ...  \n",
       "21913  remote_reboot,cassette  cassette,remote_reboot  \n",
       "10406                 no_oper                 no_oper  \n",
       "18134  remote_reboot,cassette  cassette,remote_reboot  \n",
       "31838                   empty                   empty  \n",
       "964             remote_reboot           remote_reboot  \n",
       "\n",
       "[6793 rows x 3 columns]"
      ]
     },
     "execution_count": 9,
     "metadata": {},
     "output_type": "execute_result"
    }
   ],
   "source": [
    "df = pd.DataFrame({\n",
    "    'X_test': X_test, \n",
    "    'y_test': y_test, \n",
    "    'y_pred_labels': y_pred_labels,\n",
    "    'y_true': y_true.tolist(),\n",
    "    'y_pred': y_pred.tolist()\n",
    "})\n",
    "df[['X_test', 'y_test', 'y_pred_labels']]"
   ]
  },
  {
   "cell_type": "markdown",
   "id": "e2527d4d",
   "metadata": {},
   "source": [
    "#### Пример ошибок"
   ]
  },
  {
   "cell_type": "code",
   "execution_count": 10,
   "id": "261b195c",
   "metadata": {},
   "outputs": [
    {
     "data": {
      "text/html": [
       "<div>\n",
       "<style scoped>\n",
       "    .dataframe tbody tr th:only-of-type {\n",
       "        vertical-align: middle;\n",
       "    }\n",
       "\n",
       "    .dataframe tbody tr th {\n",
       "        vertical-align: top;\n",
       "    }\n",
       "\n",
       "    .dataframe thead th {\n",
       "        text-align: right;\n",
       "    }\n",
       "</style>\n",
       "<table border=\"1\" class=\"dataframe\">\n",
       "  <thead>\n",
       "    <tr style=\"text-align: right;\">\n",
       "      <th></th>\n",
       "      <th>X_test</th>\n",
       "      <th>y_test</th>\n",
       "      <th>y_pred_labels</th>\n",
       "    </tr>\n",
       "  </thead>\n",
       "  <tbody>\n",
       "    <tr>\n",
       "      <th>10430</th>\n",
       "      <td>нет операций. что с ус?</td>\n",
       "      <td>no_oper</td>\n",
       "      <td>coordination_eta,no_oper</td>\n",
       "    </tr>\n",
       "    <tr>\n",
       "      <th>33913</th>\n",
       "      <td>прошу указать сроки востановительных работ</td>\n",
       "      <td>coordination_eta</td>\n",
       "      <td>empty</td>\n",
       "    </tr>\n",
       "    <tr>\n",
       "      <th>9273</th>\n",
       "      <td>жалоба клиента: \"атм зависает, при попытке сня...</td>\n",
       "      <td>cards</td>\n",
       "      <td>empty</td>\n",
       "    </tr>\n",
       "    <tr>\n",
       "      <th>30516</th>\n",
       "      <td>проблема с картридером. у инкассаторов из 3 ба...</td>\n",
       "      <td>empty</td>\n",
       "      <td>cards</td>\n",
       "    </tr>\n",
       "    <tr>\n",
       "      <th>29940</th>\n",
       "      <td>05.12.2019 01:50 карта 4966 ус изъял карту пос...</td>\n",
       "      <td>empty</td>\n",
       "      <td>cards</td>\n",
       "    </tr>\n",
       "    <tr>\n",
       "      <th>...</th>\n",
       "      <td>...</td>\n",
       "      <td>...</td>\n",
       "      <td>...</td>\n",
       "    </tr>\n",
       "    <tr>\n",
       "      <th>14764</th>\n",
       "      <td>20.07.2019 18:40 атм изъял банковскую карту, х...</td>\n",
       "      <td>cards</td>\n",
       "      <td>empty</td>\n",
       "    </tr>\n",
       "    <tr>\n",
       "      <th>7525</th>\n",
       "      <td>банкомат зажевывает все карты - деньги отдает,...</td>\n",
       "      <td>cards</td>\n",
       "      <td>empty</td>\n",
       "    </tr>\n",
       "    <tr>\n",
       "      <th>30739</th>\n",
       "      <td>повторно.поступают жалобы на медленную обработ...</td>\n",
       "      <td>empty</td>\n",
       "      <td>cards</td>\n",
       "    </tr>\n",
       "    <tr>\n",
       "      <th>8135</th>\n",
       "      <td>атм изъяла карту и не выдал</td>\n",
       "      <td>cards</td>\n",
       "      <td>empty</td>\n",
       "    </tr>\n",
       "    <tr>\n",
       "      <th>30676</th>\n",
       "      <td>банкомат продолжает \"съедать\" карты клиентов, ...</td>\n",
       "      <td>empty</td>\n",
       "      <td>cards</td>\n",
       "    </tr>\n",
       "  </tbody>\n",
       "</table>\n",
       "<p>263 rows × 3 columns</p>\n",
       "</div>"
      ],
      "text/plain": [
       "                                                  X_test            y_test  \\\n",
       "10430                            нет операций. что с ус?           no_oper   \n",
       "33913         прошу указать сроки востановительных работ  coordination_eta   \n",
       "9273   жалоба клиента: \"атм зависает, при попытке сня...             cards   \n",
       "30516  проблема с картридером. у инкассаторов из 3 ба...             empty   \n",
       "29940  05.12.2019 01:50 карта 4966 ус изъял карту пос...             empty   \n",
       "...                                                  ...               ...   \n",
       "14764  20.07.2019 18:40 атм изъял банковскую карту, х...             cards   \n",
       "7525   банкомат зажевывает все карты - деньги отдает,...             cards   \n",
       "30739  повторно.поступают жалобы на медленную обработ...             empty   \n",
       "8135                         атм изъяла карту и не выдал             cards   \n",
       "30676  банкомат продолжает \"съедать\" карты клиентов, ...             empty   \n",
       "\n",
       "                  y_pred_labels  \n",
       "10430  coordination_eta,no_oper  \n",
       "33913                     empty  \n",
       "9273                      empty  \n",
       "30516                     cards  \n",
       "29940                     cards  \n",
       "...                         ...  \n",
       "14764                     empty  \n",
       "7525                      empty  \n",
       "30739                     cards  \n",
       "8135                      empty  \n",
       "30676                     cards  \n",
       "\n",
       "[263 rows x 3 columns]"
      ]
     },
     "execution_count": 10,
     "metadata": {},
     "output_type": "execute_result"
    }
   ],
   "source": [
    "df[df.y_true != df.y_pred][['X_test', 'y_test', 'y_pred_labels']]"
   ]
  },
  {
   "cell_type": "markdown",
   "id": "7c860bf6",
   "metadata": {},
   "source": [
    "Классы cards и empty сильно коллерируют между собой. Но я их и как человек не всегда правильно угадываю)"
   ]
  }
 ],
 "metadata": {
  "kernelspec": {
   "display_name": "Python 3",
   "language": "python",
   "name": "python3"
  },
  "language_info": {
   "codemirror_mode": {
    "name": "ipython",
    "version": 3
   },
   "file_extension": ".py",
   "mimetype": "text/x-python",
   "name": "python",
   "nbconvert_exporter": "python",
   "pygments_lexer": "ipython3",
   "version": "3.8.5"
  }
 },
 "nbformat": 4,
 "nbformat_minor": 5
}
